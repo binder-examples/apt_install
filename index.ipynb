{
 "cells": [
  {
   "cell_type": "markdown",
   "metadata": {},
   "source": [
    "This notebook uses the commandline tools `cowsay` and `lolcat`, which were automatically installed because we included them in our apt.txt file.\n",
    "\n",
    "The cell uses them in a system shell (note the [exclamation mark](https://ipython.readthedocs.io/en/stable/interactive/tutorial.html?highlight=shell#system-shell-commands)) to fancify the Zen of Python.\n",
    "\n",
    "* Note: These tools were installed to `/usr/games` by the system's package manager and that directory is not in the [path](https://en.wikipedia.org/wiki/PATH_(variable)) by default. The `postBuild` file is used to add `/usr/games` to the path."
   ]
  },
  {
   "cell_type": "code",
   "execution_count": null,
   "metadata": {},
   "outputs": [],
   "source": [
    "!python -c \"import this\" | /usr/games/cowsay | /usr/games/lolcat"
   ]
  }
 ],
 "metadata": {
  "kernelspec": {
   "display_name": "Python 3",
   "language": "python",
   "name": "python3"
  },
  "language_info": {
   "codemirror_mode": {
    "name": "ipython",
    "version": 3
   },
   "file_extension": ".py",
   "mimetype": "text/x-python",
   "name": "python",
   "nbconvert_exporter": "python",
   "pygments_lexer": "ipython3",
   "version": "3.6.2"
  }
 },
 "nbformat": 4,
 "nbformat_minor": 2
}
